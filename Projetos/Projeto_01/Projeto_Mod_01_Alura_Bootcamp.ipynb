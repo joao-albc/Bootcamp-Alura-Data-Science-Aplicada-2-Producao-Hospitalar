{
  "nbformat": 4,
  "nbformat_minor": 0,
  "metadata": {
    "colab": {
      "name": "Projeto Mod_01 Alura Bootcamp.ipynb",
      "provenance": [],
      "collapsed_sections": [],
      "authorship_tag": "ABX9TyOw6vfy2NmmwMhUb9FMfVVv",
      "include_colab_link": true
    },
    "kernelspec": {
      "name": "python3",
      "display_name": "Python 3"
    },
    "language_info": {
      "name": "python"
    }
  },
  "cells": [
    {
      "cell_type": "markdown",
      "metadata": {
        "id": "view-in-github",
        "colab_type": "text"
      },
      "source": [
        "<a href=\"https://colab.research.google.com/github/joao-albc/Bootcamp-Alura-Data-Science-Aplicada-2-Producao-Hospitalar/blob/main/Projetos/Projeto_01/Projeto_Mod_01_Alura_Bootcamp.ipynb\" target=\"_parent\"><img src=\"https://colab.research.google.com/assets/colab-badge.svg\" alt=\"Open In Colab\"/></a>"
      ]
    },
    {
      "cell_type": "markdown",
      "metadata": {
        "id": "tVSD0gvyUm4V"
      },
      "source": [
        "#Introdução"
      ]
    },
    {
      "cell_type": "markdown",
      "metadata": {
        "id": "8EbeqZ9GG-De"
      },
      "source": [
        "## Projeto Bootcamp ALURA Módulo 1:"
      ]
    },
    {
      "cell_type": "markdown",
      "metadata": {
        "id": "11VNcNI8HBA0"
      },
      "source": [
        "Explicar o que é a Alura e o Bootcamp"
      ]
    },
    {
      "cell_type": "markdown",
      "metadata": {
        "id": "7jOwqPXpaPQ-"
      },
      "source": [
        "##Escopo proposto"
      ]
    },
    {
      "cell_type": "markdown",
      "metadata": {
        "id": "6goxTfsGaSt6"
      },
      "source": [
        "**Módulo 01: Python e pandas para análise de dados reais**\n",
        "\n",
        "*Neste módulo vamos aprender como utilizar **Python**, **Pandas** e **Matplotlib** para explorar os dados financeiros do SUS, mais precisamente os gastos por Unidade Federativa ao longo dos anos. Os desafios se iniciam na aquisição dos dados em uma plataforma do governo e seus possíveis problemas, passando pelo leitura destes dados com o Pandas até a criação de hipóteses na área da saúde, que sempre devem ser cuidadosas, simulando os desafios diários de uma pessoa cientista de dados.*\n",
        "\n",
        "Alura (*https://bootcamps.alura.com.br/bootcamp-data-science-aplicada-2*)"
      ]
    },
    {
      "cell_type": "markdown",
      "metadata": {
        "id": "20mZdY9jG46X"
      },
      "source": [
        "## Objetivo:"
      ]
    },
    {
      "cell_type": "markdown",
      "metadata": {
        "id": "z3Is7KCBHXZk"
      },
      "source": [
        "Na primeira parte do curso, foram abordadas ( pontuar as aula). O objetivo deste projeto é colocar em prática o que foi aprendido no modulo 1."
      ]
    },
    {
      "cell_type": "markdown",
      "metadata": {
        "id": "bHTbt8GJH1sX"
      },
      "source": [
        "## Dados:"
      ]
    },
    {
      "cell_type": "markdown",
      "metadata": {
        "id": "4GScFx9mH4TJ"
      },
      "source": [
        "Foi dada a opção de usar os dados de produção hospitalar, fosse número de internação, óbito, dias de permanência, taxa de mortalidade ou outros. Os dados ficam disponíveis no **portal da saúde do SUS** *(http://www2.datasus.gov.br/DATASUS/index.php?area=0202&id=11633&VObj=http://tabnet.datasus.gov.br/cgi/deftohtm.exe?sih/cnv/qi)*\n",
        "\n",
        "Fiz a escolha de selecionar os dados por número de óbitos. Estes, podem ser baixados no formato **.CSV**"
      ]
    },
    {
      "cell_type": "markdown",
      "metadata": {
        "id": "giZ-yTGBU26Q"
      },
      "source": [
        "#Exploração dos dados"
      ]
    },
    {
      "cell_type": "markdown",
      "metadata": {
        "id": "C-uIQKQNU6jr"
      },
      "source": [
        "#Importação de bibliotecas"
      ]
    },
    {
      "cell_type": "code",
      "metadata": {
        "id": "w5JIpBO-VBH5"
      },
      "source": [
        "import pandas as pd\n",
        "import re\n",
        "import numpy as np\n",
        "import matplotlib.pyplot as plt\n",
        "pd.options.display.float_format = \"{:.2f}\".format"
      ],
      "execution_count": null,
      "outputs": []
    },
    {
      "cell_type": "markdown",
      "metadata": {
        "id": "O8paVJ1dAklz"
      },
      "source": [
        "##Preparação dos dados"
      ]
    },
    {
      "cell_type": "code",
      "metadata": {
        "id": "Bakt2Bv7YFZ4",
        "colab": {
          "base_uri": "https://localhost:8080/",
          "height": 413
        },
        "outputId": "a5dc8f6a-c658-4bfb-a39c-9073e3c0d248"
      },
      "source": [
        "obitos = pd.read_csv('A221901189_28_143_208.csv', encoding=\"ISO-8859-1\", sep=\";\", skiprows = 3, skipfooter=12)\n",
        "# O skiprows é usado para pular o cabeçalho\n",
        "\n",
        "obitos.set_index('Unidade da Federação', inplace = True)\n",
        "obitos.drop('Total', axis = 1, inplace = True)\n",
        "obitos"
      ],
      "execution_count": null,
      "outputs": [
        {
          "output_type": "stream",
          "text": [
            "/usr/local/lib/python3.7/dist-packages/ipykernel_launcher.py:1: ParserWarning: Falling back to the 'python' engine because the 'c' engine does not support skipfooter; you can avoid this warning by specifying engine='python'.\n",
            "  \"\"\"Entry point for launching an IPython kernel.\n"
          ],
          "name": "stderr"
        },
        {
          "output_type": "error",
          "ename": "FileNotFoundError",
          "evalue": "ignored",
          "traceback": [
            "\u001b[0;31m---------------------------------------------------------------------------\u001b[0m",
            "\u001b[0;31mFileNotFoundError\u001b[0m                         Traceback (most recent call last)",
            "\u001b[0;32m<ipython-input-2-1fc3efedac23>\u001b[0m in \u001b[0;36m<module>\u001b[0;34m()\u001b[0m\n\u001b[0;32m----> 1\u001b[0;31m \u001b[0mobitos\u001b[0m \u001b[0;34m=\u001b[0m \u001b[0mpd\u001b[0m\u001b[0;34m.\u001b[0m\u001b[0mread_csv\u001b[0m\u001b[0;34m(\u001b[0m\u001b[0;34m'A221901189_28_143_208.csv'\u001b[0m\u001b[0;34m,\u001b[0m \u001b[0mencoding\u001b[0m\u001b[0;34m=\u001b[0m\u001b[0;34m\"ISO-8859-1\"\u001b[0m\u001b[0;34m,\u001b[0m \u001b[0msep\u001b[0m\u001b[0;34m=\u001b[0m\u001b[0;34m\";\"\u001b[0m\u001b[0;34m,\u001b[0m \u001b[0mskiprows\u001b[0m \u001b[0;34m=\u001b[0m \u001b[0;36m3\u001b[0m\u001b[0;34m,\u001b[0m \u001b[0mskipfooter\u001b[0m\u001b[0;34m=\u001b[0m\u001b[0;36m12\u001b[0m\u001b[0;34m)\u001b[0m\u001b[0;34m\u001b[0m\u001b[0;34m\u001b[0m\u001b[0m\n\u001b[0m\u001b[1;32m      2\u001b[0m \u001b[0;31m# O skiprows é usado para pular o cabeçalho\u001b[0m\u001b[0;34m\u001b[0m\u001b[0;34m\u001b[0m\u001b[0;34m\u001b[0m\u001b[0m\n\u001b[1;32m      3\u001b[0m \u001b[0;34m\u001b[0m\u001b[0m\n\u001b[1;32m      4\u001b[0m \u001b[0mobitos\u001b[0m\u001b[0;34m.\u001b[0m\u001b[0mset_index\u001b[0m\u001b[0;34m(\u001b[0m\u001b[0;34m'Unidade da Federação'\u001b[0m\u001b[0;34m,\u001b[0m \u001b[0minplace\u001b[0m \u001b[0;34m=\u001b[0m \u001b[0;32mTrue\u001b[0m\u001b[0;34m)\u001b[0m\u001b[0;34m\u001b[0m\u001b[0;34m\u001b[0m\u001b[0m\n\u001b[1;32m      5\u001b[0m \u001b[0mobitos\u001b[0m\u001b[0;34m.\u001b[0m\u001b[0mdrop\u001b[0m\u001b[0;34m(\u001b[0m\u001b[0;34m'Total'\u001b[0m\u001b[0;34m,\u001b[0m \u001b[0maxis\u001b[0m \u001b[0;34m=\u001b[0m \u001b[0;36m1\u001b[0m\u001b[0;34m,\u001b[0m \u001b[0minplace\u001b[0m \u001b[0;34m=\u001b[0m \u001b[0;32mTrue\u001b[0m\u001b[0;34m)\u001b[0m\u001b[0;34m\u001b[0m\u001b[0;34m\u001b[0m\u001b[0m\n",
            "\u001b[0;32m/usr/local/lib/python3.7/dist-packages/pandas/io/parsers.py\u001b[0m in \u001b[0;36mread_csv\u001b[0;34m(filepath_or_buffer, sep, delimiter, header, names, index_col, usecols, squeeze, prefix, mangle_dupe_cols, dtype, engine, converters, true_values, false_values, skipinitialspace, skiprows, skipfooter, nrows, na_values, keep_default_na, na_filter, verbose, skip_blank_lines, parse_dates, infer_datetime_format, keep_date_col, date_parser, dayfirst, cache_dates, iterator, chunksize, compression, thousands, decimal, lineterminator, quotechar, quoting, doublequote, escapechar, comment, encoding, dialect, error_bad_lines, warn_bad_lines, delim_whitespace, low_memory, memory_map, float_precision)\u001b[0m\n\u001b[1;32m    686\u001b[0m     )\n\u001b[1;32m    687\u001b[0m \u001b[0;34m\u001b[0m\u001b[0m\n\u001b[0;32m--> 688\u001b[0;31m     \u001b[0;32mreturn\u001b[0m \u001b[0m_read\u001b[0m\u001b[0;34m(\u001b[0m\u001b[0mfilepath_or_buffer\u001b[0m\u001b[0;34m,\u001b[0m \u001b[0mkwds\u001b[0m\u001b[0;34m)\u001b[0m\u001b[0;34m\u001b[0m\u001b[0;34m\u001b[0m\u001b[0m\n\u001b[0m\u001b[1;32m    689\u001b[0m \u001b[0;34m\u001b[0m\u001b[0m\n\u001b[1;32m    690\u001b[0m \u001b[0;34m\u001b[0m\u001b[0m\n",
            "\u001b[0;32m/usr/local/lib/python3.7/dist-packages/pandas/io/parsers.py\u001b[0m in \u001b[0;36m_read\u001b[0;34m(filepath_or_buffer, kwds)\u001b[0m\n\u001b[1;32m    452\u001b[0m \u001b[0;34m\u001b[0m\u001b[0m\n\u001b[1;32m    453\u001b[0m     \u001b[0;31m# Create the parser.\u001b[0m\u001b[0;34m\u001b[0m\u001b[0;34m\u001b[0m\u001b[0;34m\u001b[0m\u001b[0m\n\u001b[0;32m--> 454\u001b[0;31m     \u001b[0mparser\u001b[0m \u001b[0;34m=\u001b[0m \u001b[0mTextFileReader\u001b[0m\u001b[0;34m(\u001b[0m\u001b[0mfp_or_buf\u001b[0m\u001b[0;34m,\u001b[0m \u001b[0;34m**\u001b[0m\u001b[0mkwds\u001b[0m\u001b[0;34m)\u001b[0m\u001b[0;34m\u001b[0m\u001b[0;34m\u001b[0m\u001b[0m\n\u001b[0m\u001b[1;32m    455\u001b[0m \u001b[0;34m\u001b[0m\u001b[0m\n\u001b[1;32m    456\u001b[0m     \u001b[0;32mif\u001b[0m \u001b[0mchunksize\u001b[0m \u001b[0;32mor\u001b[0m \u001b[0miterator\u001b[0m\u001b[0;34m:\u001b[0m\u001b[0;34m\u001b[0m\u001b[0;34m\u001b[0m\u001b[0m\n",
            "\u001b[0;32m/usr/local/lib/python3.7/dist-packages/pandas/io/parsers.py\u001b[0m in \u001b[0;36m__init__\u001b[0;34m(self, f, engine, **kwds)\u001b[0m\n\u001b[1;32m    946\u001b[0m             \u001b[0mself\u001b[0m\u001b[0;34m.\u001b[0m\u001b[0moptions\u001b[0m\u001b[0;34m[\u001b[0m\u001b[0;34m\"has_index_names\"\u001b[0m\u001b[0;34m]\u001b[0m \u001b[0;34m=\u001b[0m \u001b[0mkwds\u001b[0m\u001b[0;34m[\u001b[0m\u001b[0;34m\"has_index_names\"\u001b[0m\u001b[0;34m]\u001b[0m\u001b[0;34m\u001b[0m\u001b[0;34m\u001b[0m\u001b[0m\n\u001b[1;32m    947\u001b[0m \u001b[0;34m\u001b[0m\u001b[0m\n\u001b[0;32m--> 948\u001b[0;31m         \u001b[0mself\u001b[0m\u001b[0;34m.\u001b[0m\u001b[0m_make_engine\u001b[0m\u001b[0;34m(\u001b[0m\u001b[0mself\u001b[0m\u001b[0;34m.\u001b[0m\u001b[0mengine\u001b[0m\u001b[0;34m)\u001b[0m\u001b[0;34m\u001b[0m\u001b[0;34m\u001b[0m\u001b[0m\n\u001b[0m\u001b[1;32m    949\u001b[0m \u001b[0;34m\u001b[0m\u001b[0m\n\u001b[1;32m    950\u001b[0m     \u001b[0;32mdef\u001b[0m \u001b[0mclose\u001b[0m\u001b[0;34m(\u001b[0m\u001b[0mself\u001b[0m\u001b[0;34m)\u001b[0m\u001b[0;34m:\u001b[0m\u001b[0;34m\u001b[0m\u001b[0;34m\u001b[0m\u001b[0m\n",
            "\u001b[0;32m/usr/local/lib/python3.7/dist-packages/pandas/io/parsers.py\u001b[0m in \u001b[0;36m_make_engine\u001b[0;34m(self, engine)\u001b[0m\n\u001b[1;32m   1189\u001b[0m                     \u001b[0;34m'are \"c\", \"python\", or \"python-fwf\")'\u001b[0m\u001b[0;34m\u001b[0m\u001b[0;34m\u001b[0m\u001b[0m\n\u001b[1;32m   1190\u001b[0m                 )\n\u001b[0;32m-> 1191\u001b[0;31m             \u001b[0mself\u001b[0m\u001b[0;34m.\u001b[0m\u001b[0m_engine\u001b[0m \u001b[0;34m=\u001b[0m \u001b[0mklass\u001b[0m\u001b[0;34m(\u001b[0m\u001b[0mself\u001b[0m\u001b[0;34m.\u001b[0m\u001b[0mf\u001b[0m\u001b[0;34m,\u001b[0m \u001b[0;34m**\u001b[0m\u001b[0mself\u001b[0m\u001b[0;34m.\u001b[0m\u001b[0moptions\u001b[0m\u001b[0;34m)\u001b[0m\u001b[0;34m\u001b[0m\u001b[0;34m\u001b[0m\u001b[0m\n\u001b[0m\u001b[1;32m   1192\u001b[0m \u001b[0;34m\u001b[0m\u001b[0m\n\u001b[1;32m   1193\u001b[0m     \u001b[0;32mdef\u001b[0m \u001b[0m_failover_to_python\u001b[0m\u001b[0;34m(\u001b[0m\u001b[0mself\u001b[0m\u001b[0;34m)\u001b[0m\u001b[0;34m:\u001b[0m\u001b[0;34m\u001b[0m\u001b[0;34m\u001b[0m\u001b[0m\n",
            "\u001b[0;32m/usr/local/lib/python3.7/dist-packages/pandas/io/parsers.py\u001b[0m in \u001b[0;36m__init__\u001b[0;34m(self, f, **kwds)\u001b[0m\n\u001b[1;32m   2387\u001b[0m             \u001b[0mencoding\u001b[0m\u001b[0;34m=\u001b[0m\u001b[0mself\u001b[0m\u001b[0;34m.\u001b[0m\u001b[0mencoding\u001b[0m\u001b[0;34m,\u001b[0m\u001b[0;34m\u001b[0m\u001b[0;34m\u001b[0m\u001b[0m\n\u001b[1;32m   2388\u001b[0m             \u001b[0mcompression\u001b[0m\u001b[0;34m=\u001b[0m\u001b[0mself\u001b[0m\u001b[0;34m.\u001b[0m\u001b[0mcompression\u001b[0m\u001b[0;34m,\u001b[0m\u001b[0;34m\u001b[0m\u001b[0;34m\u001b[0m\u001b[0m\n\u001b[0;32m-> 2389\u001b[0;31m             \u001b[0mmemory_map\u001b[0m\u001b[0;34m=\u001b[0m\u001b[0mself\u001b[0m\u001b[0;34m.\u001b[0m\u001b[0mmemory_map\u001b[0m\u001b[0;34m,\u001b[0m\u001b[0;34m\u001b[0m\u001b[0;34m\u001b[0m\u001b[0m\n\u001b[0m\u001b[1;32m   2390\u001b[0m         )\n\u001b[1;32m   2391\u001b[0m         \u001b[0mself\u001b[0m\u001b[0;34m.\u001b[0m\u001b[0mhandles\u001b[0m\u001b[0;34m.\u001b[0m\u001b[0mextend\u001b[0m\u001b[0;34m(\u001b[0m\u001b[0mhandles\u001b[0m\u001b[0;34m)\u001b[0m\u001b[0;34m\u001b[0m\u001b[0;34m\u001b[0m\u001b[0m\n",
            "\u001b[0;32m/usr/local/lib/python3.7/dist-packages/pandas/io/common.py\u001b[0m in \u001b[0;36mget_handle\u001b[0;34m(path_or_buf, mode, encoding, compression, memory_map, is_text, errors)\u001b[0m\n\u001b[1;32m    491\u001b[0m         \u001b[0;32mif\u001b[0m \u001b[0mencoding\u001b[0m\u001b[0;34m:\u001b[0m\u001b[0;34m\u001b[0m\u001b[0;34m\u001b[0m\u001b[0m\n\u001b[1;32m    492\u001b[0m             \u001b[0;31m# Encoding\u001b[0m\u001b[0;34m\u001b[0m\u001b[0;34m\u001b[0m\u001b[0;34m\u001b[0m\u001b[0m\n\u001b[0;32m--> 493\u001b[0;31m             \u001b[0mf\u001b[0m \u001b[0;34m=\u001b[0m \u001b[0mopen\u001b[0m\u001b[0;34m(\u001b[0m\u001b[0mpath_or_buf\u001b[0m\u001b[0;34m,\u001b[0m \u001b[0mmode\u001b[0m\u001b[0;34m,\u001b[0m \u001b[0mencoding\u001b[0m\u001b[0;34m=\u001b[0m\u001b[0mencoding\u001b[0m\u001b[0;34m,\u001b[0m \u001b[0merrors\u001b[0m\u001b[0;34m=\u001b[0m\u001b[0merrors\u001b[0m\u001b[0;34m,\u001b[0m \u001b[0mnewline\u001b[0m\u001b[0;34m=\u001b[0m\u001b[0;34m\"\"\u001b[0m\u001b[0;34m)\u001b[0m\u001b[0;34m\u001b[0m\u001b[0;34m\u001b[0m\u001b[0m\n\u001b[0m\u001b[1;32m    494\u001b[0m         \u001b[0;32melif\u001b[0m \u001b[0mis_text\u001b[0m\u001b[0;34m:\u001b[0m\u001b[0;34m\u001b[0m\u001b[0;34m\u001b[0m\u001b[0m\n\u001b[1;32m    495\u001b[0m             \u001b[0;31m# No explicit encoding\u001b[0m\u001b[0;34m\u001b[0m\u001b[0;34m\u001b[0m\u001b[0;34m\u001b[0m\u001b[0m\n",
            "\u001b[0;31mFileNotFoundError\u001b[0m: [Errno 2] No such file or directory: 'A221901189_28_143_208.csv'"
          ]
        }
      ]
    },
    {
      "cell_type": "code",
      "metadata": {
        "id": "hy3Ttt5CwikT"
      },
      "source": [
        "investimento = pd.DataFrame(pd.read_csv('A171352189_28_143_208.csv',skiprows = 3,skipfooter= 12, encoding=\"ISO-8859-1\",thousands=\".\", decimal=\",\",sep=\";\"))\n",
        "investimento.set_index('Unidade da Federação', inplace = True)\n",
        "investimento.drop('Total', axis = 1, inplace = True)\n",
        "investimento"
      ],
      "execution_count": null,
      "outputs": []
    },
    {
      "cell_type": "markdown",
      "metadata": {
        "id": "jKLGia0Q9TNv"
      },
      "source": [
        "Substituição de valores em relação ao **12 Acre** no em **2009/Set**\n",
        "\n",
        "A ideia é que os values sejam substituídos pelo valor média\n",
        "\n"
      ]
    },
    {
      "cell_type": "markdown",
      "metadata": {
        "id": "yy5TnY8z2H35"
      },
      "source": [
        "Óbitos"
      ]
    },
    {
      "cell_type": "code",
      "metadata": {
        "id": "ecLxfCdI2LeG"
      },
      "source": [
        "#variável para receber somente os valores do Estado (index)\n",
        "n = obitos.loc['12 Acre'].values\n",
        "#insere o valor com a média da array sem contar o valor ausente\n",
        "obitos[obitos.columns[20]][1] = np.mean(np.delete(n,20))\n",
        "# obitos[obitos.columns[20]]"
      ],
      "execution_count": null,
      "outputs": []
    },
    {
      "cell_type": "code",
      "metadata": {
        "id": "B3CD0lpP5_Mg"
      },
      "source": [
        "#variável para receber somente os valores do Estado (index)\n",
        "n = investimento.loc['12 Acre'].values\n",
        "#insere o valor com a média da array sem contar o valor ausente\n",
        "investimento[investimento.columns[20]][1] = np.mean(np.delete(n,20))\n",
        "# investimento[investimento.columns[20]]"
      ],
      "execution_count": null,
      "outputs": []
    },
    {
      "cell_type": "markdown",
      "metadata": {
        "id": "UttwJkknASdo"
      },
      "source": [
        "##Inserir mês e ano"
      ]
    },
    {
      "cell_type": "code",
      "metadata": {
        "id": "3JW6QuxcTdZw"
      },
      "source": [
        "def insert_month_year(df):\n",
        "  meses = []\n",
        "  for i in df.T.index:\n",
        "    meses.append(re.search('\\w*[a-zA-Z]',str(i)).group())\n",
        "\n",
        "  ano = []\n",
        "  for i in df.T.index:\n",
        "    ano.append(int(re.search('\\d*',str(i)).group()))\n",
        "\n",
        "  df = df.T\n",
        "\n",
        "  df['Mes'] = meses\n",
        "\n",
        "  df['Ano'] = ano\n",
        "\n",
        "  return df"
      ],
      "execution_count": null,
      "outputs": []
    },
    {
      "cell_type": "code",
      "metadata": {
        "id": "YKR_PaB02Ueq"
      },
      "source": [
        "\n",
        "\"\"\"obitos = insert_month_year(obitos)\n",
        "obitos\"\"\"\n"
      ],
      "execution_count": null,
      "outputs": []
    },
    {
      "cell_type": "code",
      "metadata": {
        "id": "v2wZREX660lV"
      },
      "source": [
        "\n",
        "\"\"\"investimento = insert_month_year(investimento)\n",
        "investimento\"\"\"\n"
      ],
      "execution_count": null,
      "outputs": []
    },
    {
      "cell_type": "markdown",
      "metadata": {
        "id": "TxDo3zV-AYkf"
      },
      "source": [
        "##Inserir Região"
      ]
    },
    {
      "cell_type": "code",
      "metadata": {
        "id": "oouoDQJYJxYU"
      },
      "source": [
        "def insert_regiao(df):\n",
        "\n",
        "  estados = df.index[:]\n",
        "  regiao = []\n",
        "  c = 0\n",
        "\n",
        "  for i in estados:\n",
        "    num = estados[c][0:2]\n",
        "    if int(num) >= 11 and int(num) <= 17:\n",
        "      regiao.append('Norte')\n",
        "    elif int(num) >= 21 and int(num) <= 29:\n",
        "      regiao.append('Nordeste')\n",
        "    elif int(num) >= 31 and int(num) <= 35:\n",
        "      regiao.append('Sudeste')\n",
        "    elif int(num) >= 41 and int(num) <= 43:\n",
        "      regiao.append('Sul')\n",
        "    elif int(num) >= 50 and int(num) <= 53:\n",
        "      regiao.append('Centro-Oeste')\n",
        "    c+=1\n",
        "\n",
        "  df['Região'] = regiao\n",
        "\n",
        "  return df"
      ],
      "execution_count": null,
      "outputs": []
    },
    {
      "cell_type": "code",
      "metadata": {
        "id": "I3MMI_jZv7xg"
      },
      "source": [
        "investimento = insert_regiao(investimento)\n",
        "obitos = insert_regiao(obitos)"
      ],
      "execution_count": null,
      "outputs": []
    },
    {
      "cell_type": "markdown",
      "metadata": {
        "id": "A7Ax59NsA7Mt"
      },
      "source": [
        "##**Análises por região**"
      ]
    },
    {
      "cell_type": "markdown",
      "metadata": {
        "id": "AcmunJuGAakW"
      },
      "source": [
        "**Explorar dados por região**"
      ]
    },
    {
      "cell_type": "markdown",
      "metadata": {
        "id": "cU6YOHWD_xMU"
      },
      "source": [
        "Podemos observar que existe um equilíbrio entre a média de investimento total e o número de óbitos por cada região do país. Na relação entre óbitos e investimentos, a região com maior sobra foi a Sul, com + 2.2% investidos. Por outro lado, o Sudeste registrou uma diferença de -4%."
      ]
    },
    {
      "cell_type": "code",
      "metadata": {
        "id": "KpGO7oWwAidS"
      },
      "source": [
        "tabela_regiao = pd.DataFrame(obitos.groupby(['Região']).sum().T.sum().sort_values(), columns=['Óbitos.'])\n",
        "tabela_regiao['% obt.'] = (obitos.groupby(['Região']).sum().T.sum().sort_values() / obitos[obitos.columns[0:-1]].sum().sum().round(4)*100)\n",
        "tabela_regiao['Investimento'] = investimento.groupby(['Região']).sum().T.sum().sort_values()\n",
        "tabela_regiao['% inv.'] = (investimento.groupby(['Região']).sum().T.sum().sort_values() / investimento.groupby(['Região']).sum().sum().sum())*100\n",
        "tabela_regiao['% dif.'] = tabela_regiao['% inv.'] - tabela_regiao['% obt.']\n",
        "tabela_regiao"
      ],
      "execution_count": null,
      "outputs": []
    },
    {
      "cell_type": "code",
      "metadata": {
        "id": "lpw5R9_m8HU0"
      },
      "source": [
        "# obitos.groupby(['Região']).sum().T.sum().sort_values()\n"
      ],
      "execution_count": null,
      "outputs": []
    },
    {
      "cell_type": "markdown",
      "metadata": {
        "id": "V2kEyEdugIXn"
      },
      "source": [
        "**Gráficos**"
      ]
    },
    {
      "cell_type": "code",
      "metadata": {
        "id": "chTinT_OO60Q"
      },
      "source": [
        "fig, (ax,ax2) = plt.subplots(2, figsize=(10,6))\n",
        "ax.set_title('Óbitos', loc='right', y=-0.1, pad=65.0, rotation = 90.0)\n",
        "ax.bar(obitos.groupby(['Região']).sum().T.sum().sort_values().keys(),\\\n",
        "       obitos.groupby(['Região']).sum().T.sum().sort_values())\n",
        "\n",
        "col = (obitos.groupby(['Região']).sum().T.sum().sort_values().keys())\n",
        "val = (obitos.groupby(['Região']).sum().T.sum().sort_values().values)\n",
        "\n",
        "#É usado ZIP para fazer a tupla com os dados de coluna e seu valor de maneira agregada\n",
        "result = zip(col, val)\n",
        "result = (tuple(result))\n",
        "result\n",
        "\n",
        "c = 0\n",
        "for i in result:\n",
        "  #Para inserir o rótulo de dados de cada uma das barras\n",
        "  ax.annotate(str((val[c]/10000).round(2))+' k',xy=(c-0.2, val[c]*1.05))\n",
        "  c+=1\n",
        "\n",
        "ax2.set_title('Investimento em R$', loc='right', y=-0.1, pad=32.0, rotation = 90.0)\n",
        "ax2.bar(investimento.groupby(['Região']).sum().T.sum().sort_values().keys(),\\\n",
        "       investimento.groupby(['Região']).sum().T.sum().sort_values())\n",
        "\n",
        "col = (investimento.groupby(['Região']).sum().T.sum().sort_values().keys())\n",
        "val = (investimento.groupby(['Região']).sum().T.sum().sort_values().values)\n",
        "\n",
        "result = zip(col, val)\n",
        "result = (tuple(result))\n",
        "result\n",
        "\n",
        "c = 0\n",
        "for i in result:\n",
        "  #Para inserir o rótulo de dados de cada uma das barras\n",
        "  ax2.annotate(str((val[c]/1000000000).round(2))+' bi',xy=(c-0.2, val[c]*1.05))\n",
        "  c+=1\n",
        "\n",
        "plt.show()"
      ],
      "execution_count": null,
      "outputs": []
    },
    {
      "cell_type": "markdown",
      "metadata": {
        "id": "h1UwRk7W2b6w"
      },
      "source": [
        "Anos"
      ]
    },
    {
      "cell_type": "markdown",
      "metadata": {
        "id": "OMSWWsbiua10"
      },
      "source": [
        "Comparação por estado"
      ]
    },
    {
      "cell_type": "code",
      "metadata": {
        "id": "tB8az_wYughh"
      },
      "source": [
        "indice_cidade = dict(enumerate(tuple(investimento.index)))"
      ],
      "execution_count": null,
      "outputs": []
    },
    {
      "cell_type": "code",
      "metadata": {
        "id": "II9Lm4rlL4oP"
      },
      "source": [
        "indice_cidade"
      ],
      "execution_count": null,
      "outputs": []
    },
    {
      "cell_type": "code",
      "metadata": {
        "id": "mjlzdpyu20Az"
      },
      "source": [
        "def grafico_combinado(cod_cidade):\n",
        "  indice_cidade[cod_cidade]\n",
        "  fig, ax = plt.subplots(figsize=(16,5), sharex=True)\n",
        "\n",
        "  obts = obitos.T[:-1][indice_cidade[cod_cidade]].values\n",
        "  inv = investimento.T[:-1][indice_cidade[cod_cidade]].values\n",
        "  ax.plot(np.array(inv, dtype='float') / np.sum(inv, dtype='float') *100, label='Investimento')\n",
        "  ax.plot(np.array(obts, dtype='float') / np.sum(obts, dtype='float') *100, label='Óbitos')\n",
        "  \n",
        "  ax.set_title(indice_cidade[cod_cidade])\n",
        "  ax.legend()\n",
        "  plt.show()"
      ],
      "execution_count": null,
      "outputs": []
    },
    {
      "cell_type": "code",
      "metadata": {
        "id": "7sVUjr2oMvBH"
      },
      "source": [
        "n = list(indice_cidade.keys())[:7]\n",
        "\n",
        "fig, ax = plt.subplots(1,int(len(n)), figsize=(20,5), sharey=True)\n",
        "cod_cidade = 0\n",
        "for i in n:\n",
        "  obts = obitos.T[:-1][indice_cidade[cod_cidade]].values\n",
        "  inv = investimento.T[:-1][indice_cidade[cod_cidade]].values\n",
        "  ax[cod_cidade].plot(np.array(inv, dtype='float') / np.sum(inv, dtype='float') *100, label='Investimento')\n",
        "  ax[cod_cidade].plot(np.array(obts, dtype='float') / np.sum(obts, dtype='float') *100, label='Óbitos')\n",
        "\n",
        "  ax[cod_cidade].set_title(indice_cidade[cod_cidade])\n",
        "  ax[cod_cidade].legend()\n",
        "  cod_cidade+=1\n",
        "plt.show()"
      ],
      "execution_count": null,
      "outputs": []
    },
    {
      "cell_type": "code",
      "metadata": {
        "id": "Yd5FVnH3Qc0T"
      },
      "source": [
        "len(list(indice_cidade.keys())) / 9"
      ],
      "execution_count": null,
      "outputs": []
    },
    {
      "cell_type": "code",
      "metadata": {
        "colab": {
          "base_uri": "https://localhost:8080/",
          "height": 458
        },
        "id": "B_DOAMekgZLH",
        "outputId": "956bb312-c2b8-4c6d-f285-de338d10b88d"
      },
      "source": [
        "pd.read_csv('https://github.com/joao-albc/Bootcamp-Alura-Data-Science-Aplicada-2-Producao-Hospitalar/blob/main/Projetos/Projeto_01/Dados/A171352189_28_143_208.csv')"
      ],
      "execution_count": null,
      "outputs": [
        {
          "output_type": "error",
          "ename": "ParserError",
          "evalue": "ignored",
          "traceback": [
            "\u001b[0;31m---------------------------------------------------------------------------\u001b[0m",
            "\u001b[0;31mParserError\u001b[0m                               Traceback (most recent call last)",
            "\u001b[0;32m<ipython-input-4-e1271a6ce2b9>\u001b[0m in \u001b[0;36m<module>\u001b[0;34m()\u001b[0m\n\u001b[0;32m----> 1\u001b[0;31m \u001b[0mpd\u001b[0m\u001b[0;34m.\u001b[0m\u001b[0mread_csv\u001b[0m\u001b[0;34m(\u001b[0m\u001b[0;34m'https://github.com/joao-albc/Bootcamp-Alura-Data-Science-Aplicada-2-Producao-Hospitalar/blob/main/Projetos/Projeto_01/Dados/A171352189_28_143_208.csv'\u001b[0m\u001b[0;34m)\u001b[0m\u001b[0;34m\u001b[0m\u001b[0;34m\u001b[0m\u001b[0m\n\u001b[0m",
            "\u001b[0;32m/usr/local/lib/python3.7/dist-packages/pandas/io/parsers.py\u001b[0m in \u001b[0;36mread_csv\u001b[0;34m(filepath_or_buffer, sep, delimiter, header, names, index_col, usecols, squeeze, prefix, mangle_dupe_cols, dtype, engine, converters, true_values, false_values, skipinitialspace, skiprows, skipfooter, nrows, na_values, keep_default_na, na_filter, verbose, skip_blank_lines, parse_dates, infer_datetime_format, keep_date_col, date_parser, dayfirst, cache_dates, iterator, chunksize, compression, thousands, decimal, lineterminator, quotechar, quoting, doublequote, escapechar, comment, encoding, dialect, error_bad_lines, warn_bad_lines, delim_whitespace, low_memory, memory_map, float_precision)\u001b[0m\n\u001b[1;32m    686\u001b[0m     )\n\u001b[1;32m    687\u001b[0m \u001b[0;34m\u001b[0m\u001b[0m\n\u001b[0;32m--> 688\u001b[0;31m     \u001b[0;32mreturn\u001b[0m \u001b[0m_read\u001b[0m\u001b[0;34m(\u001b[0m\u001b[0mfilepath_or_buffer\u001b[0m\u001b[0;34m,\u001b[0m \u001b[0mkwds\u001b[0m\u001b[0;34m)\u001b[0m\u001b[0;34m\u001b[0m\u001b[0;34m\u001b[0m\u001b[0m\n\u001b[0m\u001b[1;32m    689\u001b[0m \u001b[0;34m\u001b[0m\u001b[0m\n\u001b[1;32m    690\u001b[0m \u001b[0;34m\u001b[0m\u001b[0m\n",
            "\u001b[0;32m/usr/local/lib/python3.7/dist-packages/pandas/io/parsers.py\u001b[0m in \u001b[0;36m_read\u001b[0;34m(filepath_or_buffer, kwds)\u001b[0m\n\u001b[1;32m    458\u001b[0m \u001b[0;34m\u001b[0m\u001b[0m\n\u001b[1;32m    459\u001b[0m     \u001b[0;32mtry\u001b[0m\u001b[0;34m:\u001b[0m\u001b[0;34m\u001b[0m\u001b[0;34m\u001b[0m\u001b[0m\n\u001b[0;32m--> 460\u001b[0;31m         \u001b[0mdata\u001b[0m \u001b[0;34m=\u001b[0m \u001b[0mparser\u001b[0m\u001b[0;34m.\u001b[0m\u001b[0mread\u001b[0m\u001b[0;34m(\u001b[0m\u001b[0mnrows\u001b[0m\u001b[0;34m)\u001b[0m\u001b[0;34m\u001b[0m\u001b[0;34m\u001b[0m\u001b[0m\n\u001b[0m\u001b[1;32m    461\u001b[0m     \u001b[0;32mfinally\u001b[0m\u001b[0;34m:\u001b[0m\u001b[0;34m\u001b[0m\u001b[0;34m\u001b[0m\u001b[0m\n\u001b[1;32m    462\u001b[0m         \u001b[0mparser\u001b[0m\u001b[0;34m.\u001b[0m\u001b[0mclose\u001b[0m\u001b[0;34m(\u001b[0m\u001b[0;34m)\u001b[0m\u001b[0;34m\u001b[0m\u001b[0;34m\u001b[0m\u001b[0m\n",
            "\u001b[0;32m/usr/local/lib/python3.7/dist-packages/pandas/io/parsers.py\u001b[0m in \u001b[0;36mread\u001b[0;34m(self, nrows)\u001b[0m\n\u001b[1;32m   1196\u001b[0m     \u001b[0;32mdef\u001b[0m \u001b[0mread\u001b[0m\u001b[0;34m(\u001b[0m\u001b[0mself\u001b[0m\u001b[0;34m,\u001b[0m \u001b[0mnrows\u001b[0m\u001b[0;34m=\u001b[0m\u001b[0;32mNone\u001b[0m\u001b[0;34m)\u001b[0m\u001b[0;34m:\u001b[0m\u001b[0;34m\u001b[0m\u001b[0;34m\u001b[0m\u001b[0m\n\u001b[1;32m   1197\u001b[0m         \u001b[0mnrows\u001b[0m \u001b[0;34m=\u001b[0m \u001b[0m_validate_integer\u001b[0m\u001b[0;34m(\u001b[0m\u001b[0;34m\"nrows\"\u001b[0m\u001b[0;34m,\u001b[0m \u001b[0mnrows\u001b[0m\u001b[0;34m)\u001b[0m\u001b[0;34m\u001b[0m\u001b[0;34m\u001b[0m\u001b[0m\n\u001b[0;32m-> 1198\u001b[0;31m         \u001b[0mret\u001b[0m \u001b[0;34m=\u001b[0m \u001b[0mself\u001b[0m\u001b[0;34m.\u001b[0m\u001b[0m_engine\u001b[0m\u001b[0;34m.\u001b[0m\u001b[0mread\u001b[0m\u001b[0;34m(\u001b[0m\u001b[0mnrows\u001b[0m\u001b[0;34m)\u001b[0m\u001b[0;34m\u001b[0m\u001b[0;34m\u001b[0m\u001b[0m\n\u001b[0m\u001b[1;32m   1199\u001b[0m \u001b[0;34m\u001b[0m\u001b[0m\n\u001b[1;32m   1200\u001b[0m         \u001b[0;31m# May alter columns / col_dict\u001b[0m\u001b[0;34m\u001b[0m\u001b[0;34m\u001b[0m\u001b[0;34m\u001b[0m\u001b[0m\n",
            "\u001b[0;32m/usr/local/lib/python3.7/dist-packages/pandas/io/parsers.py\u001b[0m in \u001b[0;36mread\u001b[0;34m(self, nrows)\u001b[0m\n\u001b[1;32m   2155\u001b[0m     \u001b[0;32mdef\u001b[0m \u001b[0mread\u001b[0m\u001b[0;34m(\u001b[0m\u001b[0mself\u001b[0m\u001b[0;34m,\u001b[0m \u001b[0mnrows\u001b[0m\u001b[0;34m=\u001b[0m\u001b[0;32mNone\u001b[0m\u001b[0;34m)\u001b[0m\u001b[0;34m:\u001b[0m\u001b[0;34m\u001b[0m\u001b[0;34m\u001b[0m\u001b[0m\n\u001b[1;32m   2156\u001b[0m         \u001b[0;32mtry\u001b[0m\u001b[0;34m:\u001b[0m\u001b[0;34m\u001b[0m\u001b[0;34m\u001b[0m\u001b[0m\n\u001b[0;32m-> 2157\u001b[0;31m             \u001b[0mdata\u001b[0m \u001b[0;34m=\u001b[0m \u001b[0mself\u001b[0m\u001b[0;34m.\u001b[0m\u001b[0m_reader\u001b[0m\u001b[0;34m.\u001b[0m\u001b[0mread\u001b[0m\u001b[0;34m(\u001b[0m\u001b[0mnrows\u001b[0m\u001b[0;34m)\u001b[0m\u001b[0;34m\u001b[0m\u001b[0;34m\u001b[0m\u001b[0m\n\u001b[0m\u001b[1;32m   2158\u001b[0m         \u001b[0;32mexcept\u001b[0m \u001b[0mStopIteration\u001b[0m\u001b[0;34m:\u001b[0m\u001b[0;34m\u001b[0m\u001b[0;34m\u001b[0m\u001b[0m\n\u001b[1;32m   2159\u001b[0m             \u001b[0;32mif\u001b[0m \u001b[0mself\u001b[0m\u001b[0;34m.\u001b[0m\u001b[0m_first_chunk\u001b[0m\u001b[0;34m:\u001b[0m\u001b[0;34m\u001b[0m\u001b[0;34m\u001b[0m\u001b[0m\n",
            "\u001b[0;32mpandas/_libs/parsers.pyx\u001b[0m in \u001b[0;36mpandas._libs.parsers.TextReader.read\u001b[0;34m()\u001b[0m\n",
            "\u001b[0;32mpandas/_libs/parsers.pyx\u001b[0m in \u001b[0;36mpandas._libs.parsers.TextReader._read_low_memory\u001b[0;34m()\u001b[0m\n",
            "\u001b[0;32mpandas/_libs/parsers.pyx\u001b[0m in \u001b[0;36mpandas._libs.parsers.TextReader._read_rows\u001b[0;34m()\u001b[0m\n",
            "\u001b[0;32mpandas/_libs/parsers.pyx\u001b[0m in \u001b[0;36mpandas._libs.parsers.TextReader._tokenize_rows\u001b[0;34m()\u001b[0m\n",
            "\u001b[0;32mpandas/_libs/parsers.pyx\u001b[0m in \u001b[0;36mpandas._libs.parsers.raise_parser_error\u001b[0;34m()\u001b[0m\n",
            "\u001b[0;31mParserError\u001b[0m: Error tokenizing data. C error: Expected 1 fields in line 100, saw 2\n"
          ]
        }
      ]
    }
  ]
}