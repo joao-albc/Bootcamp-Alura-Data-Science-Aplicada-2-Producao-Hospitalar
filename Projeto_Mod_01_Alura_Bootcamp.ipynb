{
  "nbformat": 4,
  "nbformat_minor": 0,
  "metadata": {
    "colab": {
      "name": "Projeto Mod_01 Alura Bootcamp.ipynb",
      "provenance": [],
      "authorship_tag": "ABX9TyPkVMDGc/aTbd/GwqxMOFc2",
      "include_colab_link": true
    },
    "kernelspec": {
      "name": "python3",
      "display_name": "Python 3"
    },
    "language_info": {
      "name": "python"
    }
  },
  "cells": [
    {
      "cell_type": "markdown",
      "metadata": {
        "id": "view-in-github",
        "colab_type": "text"
      },
      "source": [
        "<a href=\"https://colab.research.google.com/github/joao-albc/Bootcamp-Alura-Data-Science-Aplicada-2-Projeto-1-Producao-Hospitalar/blob/main/Projeto_Mod_01_Alura_Bootcamp.ipynb\" target=\"_parent\"><img src=\"https://colab.research.google.com/assets/colab-badge.svg\" alt=\"Open In Colab\"/></a>"
      ]
    },
    {
      "cell_type": "markdown",
      "metadata": {
        "id": "8EbeqZ9GG-De"
      },
      "source": [
        "# Projeto Bootcamp ALURA Módulo 1:"
      ]
    },
    {
      "cell_type": "markdown",
      "metadata": {
        "id": "11VNcNI8HBA0"
      },
      "source": [
        "Explicar o que é a Alura e o Bootcamp"
      ]
    },
    {
      "cell_type": "markdown",
      "metadata": {
        "id": "7jOwqPXpaPQ-"
      },
      "source": [
        "#Escopo proposto"
      ]
    },
    {
      "cell_type": "markdown",
      "metadata": {
        "id": "6goxTfsGaSt6"
      },
      "source": [
        "*\"Neste módulo vamos aprender como utilizar Python, Pandas e Matplotlib para explorar os dados financeiros do SUS, mais precisamente os gastos por Unidade Federativa ao longo dos anos. Os desafios se iniciam na aquisição dos dados em uma plataforma do governo e seus possíveis problemas, passando pelo leitura destes dados com o Pandas até a criação de hipóteses na área da saúde, que sempre devem ser cuidadosas, simulando os desafios diários de uma pessoa cientista de dados.\"*"
      ]
    },
    {
      "cell_type": "markdown",
      "metadata": {
        "id": "20mZdY9jG46X"
      },
      "source": [
        "# Objetivo:"
      ]
    },
    {
      "cell_type": "markdown",
      "metadata": {
        "id": "z3Is7KCBHXZk"
      },
      "source": [
        "Na primeira parte do curso, foram abordadas ( pontuar as aula). O objetivo deste projeto é colocar em prática o que foi aprendido no modulo 1."
      ]
    },
    {
      "cell_type": "markdown",
      "metadata": {
        "id": "bHTbt8GJH1sX"
      },
      "source": [
        "# Dados:"
      ]
    },
    {
      "cell_type": "markdown",
      "metadata": {
        "id": "4GScFx9mH4TJ"
      },
      "source": [
        "Foi dada a opção de usar os dados de produção hospitalar, fosse número de internação, óbito, dias de permanência, taxa de mortalidade ou outros. Os dados ficam disponíveis no **portal da saúde do SUS** *(http://www2.datasus.gov.br/DATASUS/index.php?area=0202&id=11633&VObj=http://tabnet.datasus.gov.br/cgi/deftohtm.exe?sih/cnv/qi)*\n",
        "\n",
        "Fiz a escolha de selecionar os dados por número de óbitos. Estes, podem ser baixados no formato **.CSV**"
      ]
    }
  ]
}